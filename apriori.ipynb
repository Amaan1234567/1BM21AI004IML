{
 "cells": [
  {
   "cell_type": "code",
   "execution_count": 41,
   "metadata": {},
   "outputs": [
    {
     "name": "stdout",
     "output_type": "stream",
     "text": [
      "[['Bread', 'Butter', 'Milk'], ['Bread', 'Milk'], ['Eggs', 'Milk'], ['Bread', 'Eggs'], ['Bread', 'Butter'], ['Butter', 'Eggs']]\n"
     ]
    },
    {
     "data": {
      "text/plain": [
       "[[('Bread', 'Butter'), 2], [('Bread', 'Milk'), 2]]"
      ]
     },
     "execution_count": 41,
     "metadata": {},
     "output_type": "execute_result"
    }
   ],
   "source": [
    "from itertools import combinations\n",
    "import itertools\n",
    "class apriori:\n",
    "    def __init__(self,data,support_threshold=0.4,confidence_threshold=0.4) -> None:\n",
    "        self.data=data\n",
    "        self.items=[]\n",
    "        self.sup_thres=int(len(data)*support_threshold)\n",
    "        self.conf_thres=int(len(data)*confidence_threshold)\n",
    "        self.max_transac_length=-1\n",
    "        for i in data:\n",
    "            if(len(i)>self.max_transac_length):\n",
    "                self.max_transac_length=len(i)\n",
    "        for i in data:\n",
    "            for j in i:\n",
    "                if j not in self.items:\n",
    "                    self.items.append(j)\n",
    "        \n",
    "    def algo(self):\n",
    "\n",
    "        final_set = []\n",
    "        objects = []\n",
    "        for transaction in dataset:\n",
    "            for item in transaction:\n",
    "                if item not in objects:\n",
    "                    objects.append(item)\n",
    "\n",
    "        for i in range(1, len(objects)+1):\n",
    "            combinations = list(itertools.combinations(objects, r = i))\n",
    "            count = [0 for i in range(0, len(combinations))]\n",
    "            combination_support_count = dict(zip(combinations, count))\n",
    "            for transaction in dataset:\n",
    "                transaction_subset = list(itertools.combinations(transaction, r=i))\n",
    "                for subset in transaction_subset:\n",
    "                    if subset in combinations:\n",
    "                        combination_support_count[subset]+=1\n",
    "\n",
    "            for key in combination_support_count.keys():\n",
    "                if combination_support_count[key]>=self.sup_thres and len(key)>1:\n",
    "                    final_set.append([key, combination_support_count[key]])\n",
    "            combination_support_count.clear()\n",
    "            \n",
    "        return final_set\n",
    "\n",
    "    \n",
    "\n",
    "\n",
    "dataset = [['Milk', 'Bread', 'Butter'],\n",
    "           ['Milk', 'Bread'],\n",
    "           ['Milk', 'Eggs'],\n",
    "           ['Bread', 'Eggs'],\n",
    "           ['Bread', 'Butter'],\n",
    "           ['Eggs', 'Butter']]\n",
    "d=[]\n",
    "for i in dataset:\n",
    "    item=i\n",
    "    item.sort()\n",
    "    d.append(item)\n",
    "print(d)\n",
    "k=apriori(d)\n",
    "k.algo()"
   ]
  },
  {
   "cell_type": "code",
   "execution_count": 18,
   "metadata": {},
   "outputs": [
    {
     "name": "stdout",
     "output_type": "stream",
     "text": [
      "   bread  butter   eggs   milk\n",
      "0   True   False   True   True\n",
      "1   True    True  False  False\n",
      "2  False    True  False   True\n",
      "3   True    True  False   True\n",
      "4   True   False  False   True\n",
      "Frequent Itemsets:\n",
      "   support         itemsets\n",
      "0      0.8          (bread)\n",
      "1      0.6         (butter)\n",
      "2      0.8           (milk)\n",
      "3      0.4  (butter, bread)\n",
      "4      0.6    (milk, bread)\n",
      "5      0.4   (milk, butter)\n",
      "\n",
      "Association Rules:\n",
      "  antecedents consequents  antecedent support  consequent support  support  \\\n",
      "0      (milk)     (bread)                 NaN                 NaN      0.6   \n",
      "1     (bread)      (milk)                 NaN                 NaN      0.6   \n",
      "\n",
      "   confidence  lift  leverage  conviction  zhangs_metric  \n",
      "0         NaN   NaN       NaN         NaN            NaN  \n",
      "1         NaN   NaN       NaN         NaN            NaN  \n"
     ]
    }
   ],
   "source": [
    "import pandas as pd\n",
    "from mlxtend.preprocessing import TransactionEncoder\n",
    "from mlxtend.frequent_patterns import apriori, association_rules\n",
    "\n",
    "# Example transaction data\n",
    "transactions = [\n",
    "    ['bread', 'milk', 'eggs'],\n",
    "    ['bread', 'butter'],\n",
    "    ['milk', 'butter'],\n",
    "    ['bread', 'milk', 'butter'],\n",
    "    ['bread', 'milk'],\n",
    "]\n",
    "\n",
    "# Convert the transaction data to a one-hot encoded format\n",
    "te = TransactionEncoder()\n",
    "te_ary = te.fit(transactions).transform(transactions)\n",
    "\n",
    "df = pd.DataFrame(te_ary, columns=te.columns_)\n",
    "print(df)\n",
    "\n",
    "\n",
    "# Apply the Apriori algorithm to find frequent itemsets\n",
    "frequent_itemsets = apriori(df, min_support=0.4, use_colnames=True)\n",
    "\n",
    "# Generate association rules\n",
    "rules = association_rules(frequent_itemsets, metric=\"confidence\", min_threshold=0.6,support_only=True)\n",
    "\n",
    "# Display the frequent itemsets and association rules\n",
    "print(\"Frequent Itemsets:\")\n",
    "print(frequent_itemsets)\n",
    "\n",
    "print(\"\\nAssociation Rules:\")\n",
    "print(rules)\n"
   ]
  },
  {
   "cell_type": "code",
   "execution_count": null,
   "metadata": {},
   "outputs": [],
   "source": []
  }
 ],
 "metadata": {
  "kernelspec": {
   "display_name": "Python 3",
   "language": "python",
   "name": "python3"
  },
  "language_info": {
   "codemirror_mode": {
    "name": "ipython",
    "version": 3
   },
   "file_extension": ".py",
   "mimetype": "text/x-python",
   "name": "python",
   "nbconvert_exporter": "python",
   "pygments_lexer": "ipython3",
   "version": "3.11.4"
  }
 },
 "nbformat": 4,
 "nbformat_minor": 2
}
