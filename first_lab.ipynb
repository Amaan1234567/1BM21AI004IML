{
 "cells": [
  {
   "cell_type": "code",
   "execution_count": 1,
   "metadata": {},
   "outputs": [
    {
     "data": {
      "text/plain": [
       "[1, 2]"
      ]
     },
     "execution_count": 1,
     "metadata": {},
     "output_type": "execute_result"
    }
   ],
   "source": [
    "list=[1,2,3,4,5]\n",
    "list[:2]"
   ]
  },
  {
   "cell_type": "code",
   "execution_count": 6,
   "metadata": {},
   "outputs": [
    {
     "data": {
      "text/plain": [
       "{2: 2, 4: 4, 6: 3, 8: 2, 10: 5, 1: 5, 3: 4, 5: 3, 7: 2, 9: 1}"
      ]
     },
     "execution_count": 6,
     "metadata": {},
     "output_type": "execute_result"
    }
   ],
   "source": [
    "l1=[2,2,4,4,4,4,6,6,6,8,8,10,10,10,10,10]\n",
    "l2=[1,1,1,1,1,3,3,3,3,5,5,5,7,7,9]\n",
    "l3=l1+l2\n",
    "d={}\n",
    "for i in l3:\n",
    "    if(i in d.keys()):\n",
    "        d[i]+=1\n",
    "    else:\n",
    "        d[i]=1\n",
    "d"
   ]
  },
  {
   "cell_type": "code",
   "execution_count": 26,
   "metadata": {},
   "outputs": [
    {
     "data": {
      "text/html": [
       "<div>\n",
       "<style scoped>\n",
       "    .dataframe tbody tr th:only-of-type {\n",
       "        vertical-align: middle;\n",
       "    }\n",
       "\n",
       "    .dataframe tbody tr th {\n",
       "        vertical-align: top;\n",
       "    }\n",
       "\n",
       "    .dataframe thead th {\n",
       "        text-align: right;\n",
       "    }\n",
       "</style>\n",
       "<table border=\"1\" class=\"dataframe\">\n",
       "  <thead>\n",
       "    <tr style=\"text-align: right;\">\n",
       "      <th></th>\n",
       "      <th>Name</th>\n",
       "      <th>Email</th>\n",
       "    </tr>\n",
       "  </thead>\n",
       "  <tbody>\n",
       "    <tr>\n",
       "      <th>0</th>\n",
       "      <td>John Doe</td>\n",
       "      <td>johndoe@example.com</td>\n",
       "    </tr>\n",
       "    <tr>\n",
       "      <th>1</th>\n",
       "      <td>Alice Smith</td>\n",
       "      <td>alicesmith@gmail.com</td>\n",
       "    </tr>\n",
       "    <tr>\n",
       "      <th>2</th>\n",
       "      <td>Bob Johnson</td>\n",
       "      <td>bobjohnson@yahoo.com</td>\n",
       "    </tr>\n",
       "    <tr>\n",
       "      <th>3</th>\n",
       "      <td>Emma Brown</td>\n",
       "      <td>em@il@example.com</td>\n",
       "    </tr>\n",
       "    <tr>\n",
       "      <th>4</th>\n",
       "      <td>Michael Davis</td>\n",
       "      <td>michaeldavis@gmail.com</td>\n",
       "    </tr>\n",
       "  </tbody>\n",
       "</table>\n",
       "</div>"
      ],
      "text/plain": [
       "            Name                   Email\n",
       "0       John Doe     johndoe@example.com\n",
       "1    Alice Smith    alicesmith@gmail.com\n",
       "2    Bob Johnson    bobjohnson@yahoo.com\n",
       "3     Emma Brown       em@il@example.com\n",
       "4  Michael Davis  michaeldavis@gmail.com"
      ]
     },
     "execution_count": 26,
     "metadata": {},
     "output_type": "execute_result"
    }
   ],
   "source": [
    "import pandas as pd\n",
    "data=pd.read_csv(\"names.csv\")\n",
    "data.head()"
   ]
  },
  {
   "cell_type": "code",
   "execution_count": 65,
   "metadata": {},
   "outputs": [],
   "source": [
    "import re\n",
    "\n",
    "def email_check(x):\n",
    "    expression=r'\\b[A-Za-z0-9._%+-]+@[A-Za-z0-9.-]+\\.[A-Z|a-z]{2,7}\\b'\n",
    "    if re.match(expression,x):\n",
    "        return \"valid\"\n",
    "    else:\n",
    "        return \"invalid\"\n"
   ]
  },
  {
   "cell_type": "code",
   "execution_count": 67,
   "metadata": {},
   "outputs": [
    {
     "data": {
      "text/html": [
       "<div>\n",
       "<style scoped>\n",
       "    .dataframe tbody tr th:only-of-type {\n",
       "        vertical-align: middle;\n",
       "    }\n",
       "\n",
       "    .dataframe tbody tr th {\n",
       "        vertical-align: top;\n",
       "    }\n",
       "\n",
       "    .dataframe thead th {\n",
       "        text-align: right;\n",
       "    }\n",
       "</style>\n",
       "<table border=\"1\" class=\"dataframe\">\n",
       "  <thead>\n",
       "    <tr style=\"text-align: right;\">\n",
       "      <th></th>\n",
       "      <th>Name</th>\n",
       "      <th>Email</th>\n",
       "      <th>valid/invalid</th>\n",
       "    </tr>\n",
       "  </thead>\n",
       "  <tbody>\n",
       "    <tr>\n",
       "      <th>0</th>\n",
       "      <td>John Doe</td>\n",
       "      <td>johndoe@example.com</td>\n",
       "      <td>valid</td>\n",
       "    </tr>\n",
       "    <tr>\n",
       "      <th>1</th>\n",
       "      <td>Alice Smith</td>\n",
       "      <td>alicesmith@gmail.com</td>\n",
       "      <td>valid</td>\n",
       "    </tr>\n",
       "    <tr>\n",
       "      <th>2</th>\n",
       "      <td>Bob Johnson</td>\n",
       "      <td>bobjohnson@yahoo.com</td>\n",
       "      <td>valid</td>\n",
       "    </tr>\n",
       "    <tr>\n",
       "      <th>3</th>\n",
       "      <td>Emma Brown</td>\n",
       "      <td>em@il@example.com</td>\n",
       "      <td>invalid</td>\n",
       "    </tr>\n",
       "    <tr>\n",
       "      <th>4</th>\n",
       "      <td>Michael Davis</td>\n",
       "      <td>michaeldavis@gmail.com</td>\n",
       "      <td>valid</td>\n",
       "    </tr>\n",
       "    <tr>\n",
       "      <th>5</th>\n",
       "      <td>Sarah Wilson</td>\n",
       "      <td>sarah.wilson@invalidemail</td>\n",
       "      <td>invalid</td>\n",
       "    </tr>\n",
       "    <tr>\n",
       "      <th>6</th>\n",
       "      <td>Christopher Lee</td>\n",
       "      <td>chris@lee@hotmail@com</td>\n",
       "      <td>invalid</td>\n",
       "    </tr>\n",
       "  </tbody>\n",
       "</table>\n",
       "</div>"
      ],
      "text/plain": [
       "              Name                      Email valid/invalid\n",
       "0         John Doe        johndoe@example.com         valid\n",
       "1      Alice Smith       alicesmith@gmail.com         valid\n",
       "2      Bob Johnson       bobjohnson@yahoo.com         valid\n",
       "3       Emma Brown          em@il@example.com       invalid\n",
       "4    Michael Davis     michaeldavis@gmail.com         valid\n",
       "5     Sarah Wilson  sarah.wilson@invalidemail       invalid\n",
       "6  Christopher Lee      chris@lee@hotmail@com       invalid"
      ]
     },
     "execution_count": 67,
     "metadata": {},
     "output_type": "execute_result"
    }
   ],
   "source": [
    "data[\"valid/invalid\"]=data[\"Email\"].apply(email_check)\n",
    "data"
   ]
  },
  {
   "cell_type": "code",
   "execution_count": 69,
   "metadata": {},
   "outputs": [
    {
     "name": "stdout",
     "output_type": "stream",
     "text": [
      "number of words:  570\n",
      "most occurring word:  the\n"
     ]
    }
   ],
   "source": [
    "with open(\"story.txt\",\"r\") as txt:\n",
    "    data=txt.read()\n",
    "    processed_data=\"\"\n",
    "    for i in data:\n",
    "        if i in [\",\",\"%\",\"$\",\"#\",\"@\",\"!\",\"^\",\"&\",\"*\",\"(\",\")\",\"{\",\"}\",\"[\",\"]\",\"+\",\"_\",\"-\",\"=\",\";\",\":\",\"\\'\",\"\\\"\",\"<\",\">\",\",\",\".\"]:\n",
    "            processed_data+=i\n",
    "    d={}\n",
    "    print(\"number of words: \",len(data.split()))\n",
    "    for i in data.split():\n",
    "        if(i in d.keys()):\n",
    "            d[i]+=1\n",
    "        else:\n",
    "            d[i]=1\n",
    "    max=[\"\",0]\n",
    "    for i in d.keys():\n",
    "        if(max[1]<d[i]):\n",
    "            max=[i,d[i]]\n",
    "    print(\"most occurring word: \",max[0])"
   ]
  }
 ],
 "metadata": {
  "kernelspec": {
   "display_name": "Python 3",
   "language": "python",
   "name": "python3"
  },
  "language_info": {
   "codemirror_mode": {
    "name": "ipython",
    "version": 3
   },
   "file_extension": ".py",
   "mimetype": "text/x-python",
   "name": "python",
   "nbconvert_exporter": "python",
   "pygments_lexer": "ipython3",
   "version": "3.11.4"
  }
 },
 "nbformat": 4,
 "nbformat_minor": 2
}
