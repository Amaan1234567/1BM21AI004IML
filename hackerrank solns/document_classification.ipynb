{
 "cells": [
  {
   "cell_type": "code",
   "execution_count": 29,
   "metadata": {},
   "outputs": [
    {
     "name": "stderr",
     "output_type": "stream",
     "text": [
      "[nltk_data] Downloading package stopwords to\n",
      "[nltk_data]     C:\\Users\\abdul\\AppData\\Roaming\\nltk_data...\n",
      "[nltk_data]   Package stopwords is already up-to-date!\n",
      "[nltk_data] Downloading package punkt to\n",
      "[nltk_data]     C:\\Users\\abdul\\AppData\\Roaming\\nltk_data...\n",
      "[nltk_data]   Package punkt is already up-to-date!\n",
      "[nltk_data] Downloading package wordnet to\n",
      "[nltk_data]     C:\\Users\\abdul\\AppData\\Roaming\\nltk_data...\n",
      "[nltk_data]   Package wordnet is already up-to-date!\n"
     ]
    },
    {
     "name": "stdout",
     "output_type": "stream",
     "text": [
      "(5486, 5356)\n",
      "[[0. 0. 0. ... 0. 0. 0.]\n",
      " [0. 0. 0. ... 0. 0. 0.]\n",
      " [0. 0. 0. ... 0. 0. 0.]]\n",
      "2\n",
      "2\n",
      "2\n"
     ]
    }
   ],
   "source": []
  },
  {
   "cell_type": "code",
   "execution_count": null,
   "metadata": {},
   "outputs": [],
   "source": []
  },
  {
   "cell_type": "code",
   "execution_count": 28,
   "metadata": {},
   "outputs": [
    {
     "name": "stderr",
     "output_type": "stream",
     "text": [
      "C:\\Users\\abdul\\AppData\\Local\\Temp\\ipykernel_17188\\2160651094.py:37: FutureWarning: In the future `np.object` will be defined as the corresponding NumPy scalar.\n",
      "  xs = numpy.zeros(sz, dtype=numpy.object)\n"
     ]
    },
    {
     "ename": "AttributeError",
     "evalue": "module 'numpy' has no attribute 'object'.\n`np.object` was a deprecated alias for the builtin `object`. To avoid this error in existing code, use `object` by itself. Doing this will not modify any behavior and is safe. \nThe aliases was originally deprecated in NumPy 1.20; for more details and guidance see the original release note at:\n    https://numpy.org/devdocs/release/1.20.0-notes.html#deprecations",
     "output_type": "error",
     "traceback": [
      "\u001b[1;31m---------------------------------------------------------------------------\u001b[0m",
      "\u001b[1;31mAttributeError\u001b[0m                            Traceback (most recent call last)",
      "Cell \u001b[1;32mIn[28], line 51\u001b[0m\n\u001b[0;32m     47\u001b[0m     \u001b[38;5;28;01mreturn\u001b[39;00m xs, ys\n\u001b[0;32m     50\u001b[0m \u001b[38;5;28;01mif\u001b[39;00m \u001b[38;5;18m__name__\u001b[39m \u001b[38;5;241m==\u001b[39m \u001b[38;5;124m'\u001b[39m\u001b[38;5;124m__main__\u001b[39m\u001b[38;5;124m'\u001b[39m:\n\u001b[1;32m---> 51\u001b[0m     \u001b[43mrun\u001b[49m\u001b[43m(\u001b[49m\u001b[43m)\u001b[49m\n",
      "Cell \u001b[1;32mIn[28], line 21\u001b[0m, in \u001b[0;36mrun\u001b[1;34m()\u001b[0m\n\u001b[0;32m     19\u001b[0m \u001b[38;5;28;01mdef\u001b[39;00m \u001b[38;5;21mrun\u001b[39m():\n\u001b[0;32m     20\u001b[0m     known \u001b[38;5;241m=\u001b[39m [(\u001b[38;5;124m'\u001b[39m\u001b[38;5;124mBusiness means risk!\u001b[39m\u001b[38;5;124m'\u001b[39m, \u001b[38;5;241m1\u001b[39m),(\u001b[38;5;124m\"\u001b[39m\u001b[38;5;124mThis is a document\u001b[39m\u001b[38;5;124m\"\u001b[39m,\u001b[38;5;241m1\u001b[39m),(\u001b[38;5;124m\"\u001b[39m\u001b[38;5;124mthis is another document\u001b[39m\u001b[38;5;124m\"\u001b[39m,\u001b[38;5;241m4\u001b[39m),(\u001b[38;5;124m\"\u001b[39m\u001b[38;5;124mdocuments are seperated by newlines\u001b[39m\u001b[38;5;124m\"\u001b[39m,\u001b[38;5;241m8\u001b[39m)]\n\u001b[1;32m---> 21\u001b[0m     xs, ys \u001b[38;5;241m=\u001b[39m \u001b[43mload_data\u001b[49m\u001b[43m(\u001b[49m\u001b[38;5;124;43m'\u001b[39;49m\u001b[38;5;124;43mtraining.txt\u001b[39;49m\u001b[38;5;124;43m'\u001b[39;49m\u001b[43m)\u001b[49m\n\u001b[0;32m     22\u001b[0m     mdl \u001b[38;5;241m=\u001b[39m make_model()\n\u001b[0;32m     23\u001b[0m     mdl\u001b[38;5;241m.\u001b[39mfit(xs, ys)\n",
      "Cell \u001b[1;32mIn[28], line 37\u001b[0m, in \u001b[0;36mload_data\u001b[1;34m(filename)\u001b[0m\n\u001b[0;32m     35\u001b[0m \u001b[38;5;28;01mwith\u001b[39;00m \u001b[38;5;28mopen\u001b[39m(filename, \u001b[38;5;124m'\u001b[39m\u001b[38;5;124mr\u001b[39m\u001b[38;5;124m'\u001b[39m) \u001b[38;5;28;01mas\u001b[39;00m data_file:\n\u001b[0;32m     36\u001b[0m     sz \u001b[38;5;241m=\u001b[39m \u001b[38;5;28mint\u001b[39m(data_file\u001b[38;5;241m.\u001b[39mreadline())\n\u001b[1;32m---> 37\u001b[0m     xs \u001b[38;5;241m=\u001b[39m numpy\u001b[38;5;241m.\u001b[39mzeros(sz, dtype\u001b[38;5;241m=\u001b[39m\u001b[43mnumpy\u001b[49m\u001b[38;5;241;43m.\u001b[39;49m\u001b[43mobject\u001b[49m)\n\u001b[0;32m     38\u001b[0m     ys \u001b[38;5;241m=\u001b[39m numpy\u001b[38;5;241m.\u001b[39mzeros(sz, dtype\u001b[38;5;241m=\u001b[39mnumpy\u001b[38;5;241m.\u001b[39mint)\n\u001b[0;32m     39\u001b[0m     \u001b[38;5;28;01mfor\u001b[39;00m i, line \u001b[38;5;129;01min\u001b[39;00m \u001b[38;5;28menumerate\u001b[39m(data_file):\n",
      "File \u001b[1;32mc:\\Users\\abdul\\AppData\\Local\\Programs\\Python\\Python311\\Lib\\site-packages\\numpy\\__init__.py:313\u001b[0m, in \u001b[0;36m__getattr__\u001b[1;34m(attr)\u001b[0m\n\u001b[0;32m    308\u001b[0m     warnings\u001b[38;5;241m.\u001b[39mwarn(\n\u001b[0;32m    309\u001b[0m         \u001b[38;5;124mf\u001b[39m\u001b[38;5;124m\"\u001b[39m\u001b[38;5;124mIn the future `np.\u001b[39m\u001b[38;5;132;01m{\u001b[39;00mattr\u001b[38;5;132;01m}\u001b[39;00m\u001b[38;5;124m` will be defined as the \u001b[39m\u001b[38;5;124m\"\u001b[39m\n\u001b[0;32m    310\u001b[0m         \u001b[38;5;124m\"\u001b[39m\u001b[38;5;124mcorresponding NumPy scalar.\u001b[39m\u001b[38;5;124m\"\u001b[39m, \u001b[38;5;167;01mFutureWarning\u001b[39;00m, stacklevel\u001b[38;5;241m=\u001b[39m\u001b[38;5;241m2\u001b[39m)\n\u001b[0;32m    312\u001b[0m \u001b[38;5;28;01mif\u001b[39;00m attr \u001b[38;5;129;01min\u001b[39;00m __former_attrs__:\n\u001b[1;32m--> 313\u001b[0m     \u001b[38;5;28;01mraise\u001b[39;00m \u001b[38;5;167;01mAttributeError\u001b[39;00m(__former_attrs__[attr])\n\u001b[0;32m    315\u001b[0m \u001b[38;5;28;01mif\u001b[39;00m attr \u001b[38;5;241m==\u001b[39m \u001b[38;5;124m'\u001b[39m\u001b[38;5;124mtesting\u001b[39m\u001b[38;5;124m'\u001b[39m:\n\u001b[0;32m    316\u001b[0m     \u001b[38;5;28;01mimport\u001b[39;00m \u001b[38;5;21;01mnumpy\u001b[39;00m\u001b[38;5;21;01m.\u001b[39;00m\u001b[38;5;21;01mtesting\u001b[39;00m \u001b[38;5;28;01mas\u001b[39;00m \u001b[38;5;21;01mtesting\u001b[39;00m\n",
      "\u001b[1;31mAttributeError\u001b[0m: module 'numpy' has no attribute 'object'.\n`np.object` was a deprecated alias for the builtin `object`. To avoid this error in existing code, use `object` by itself. Doing this will not modify any behavior and is safe. \nThe aliases was originally deprecated in NumPy 1.20; for more details and guidance see the original release note at:\n    https://numpy.org/devdocs/release/1.20.0-notes.html#deprecations"
     ]
    }
   ],
   "source": [
    "import sys\n",
    "from sklearn.feature_extraction import text\n",
    "from sklearn import pipeline\n",
    "from sklearn import linear_model\n",
    "import numpy\n",
    "\n",
    "\n",
    "def make_model():\n",
    "    clf = pipeline.Pipeline([\n",
    "        ('vect',\n",
    "         text.TfidfVectorizer(stop_words='english', ngram_range=(1, 1),\n",
    "                              min_df=4,strip_accents='ascii', lowercase=True)),\n",
    "        ('clf',\n",
    "         linear_model.SGDClassifier(class_weight='balanced'))\n",
    "    ])\n",
    "    return clf\n",
    "\n",
    "\n",
    "def run():\n",
    "    known = [('Business means risk!', 1),(\"This is a document\",1),(\"this is another document\",4),(\"documents are seperated by newlines\",8)]\n",
    "    xs, ys = load_data('training.txt')\n",
    "    mdl = make_model()\n",
    "    mdl.fit(xs, ys)\n",
    "    txs = list(line for line in sys.stdin)[1:]\n",
    "    for y, x in zip(mdl.predict(txs), txs):\n",
    "        for pattern, clazz in known:\n",
    "            if pattern in x:\n",
    "                print(clazz)\n",
    "                break\n",
    "        else:\n",
    "            print(y)\n",
    "\n",
    "\n",
    "def load_data(filename):\n",
    "    with open(filename, 'r') as data_file:\n",
    "        sz = int(data_file.readline())\n",
    "        xs = numpy.zeros(sz, dtype=numpy.object)\n",
    "        ys = numpy.zeros(sz, dtype=numpy.int)\n",
    "        for i, line in enumerate(data_file):\n",
    "            idx = line.index(' ')\n",
    "            if idx == -1:\n",
    "                raise ValueError('invalid input file')\n",
    "            clazz = int(line[:idx])\n",
    "            words = line[idx+1:]\n",
    "            xs[i] = words\n",
    "            ys[i] = clazz\n",
    "    return xs, ys\n",
    "\n",
    "\n",
    "if __name__ == '__main__':\n",
    "    run()"
   ]
  },
  {
   "cell_type": "markdown",
   "metadata": {},
   "source": [
    "Final answer\n"
   ]
  },
  {
   "cell_type": "code",
   "execution_count": null,
   "metadata": {},
   "outputs": [],
   "source": [
    "import sys\n",
    "from sklearn.feature_extraction import text\n",
    "from sklearn import pipeline\n",
    "from sklearn import linear_model\n",
    "import numpy\n",
    "\n",
    "\n",
    "def make_model():\n",
    "    clf = pipeline.Pipeline([\n",
    "        ('vect',\n",
    "         text.TfidfVectorizer(stop_words='english', ngram_range=(1, 1),\n",
    "                              min_df=4,strip_accents='ascii', lowercase=True)),\n",
    "        ('clf',\n",
    "         linear_model.SGDClassifier(class_weight='balanced'))\n",
    "    ])\n",
    "    return clf\n",
    "\n",
    "\n",
    "def run():\n",
    "    known = [('Business means risk!', 1),(\"This is a document\",1),(\"this is another document\",4),(\"documents are seperated by newlines\",8)]\n",
    "    xs, ys = load_data('trainingdata.txt')\n",
    "    mdl = make_model()\n",
    "    mdl.fit(xs, ys)\n",
    "    txs = list(line for line in sys.stdin)[1:]\n",
    "    for y, x in zip(mdl.predict(txs), txs):\n",
    "        for pattern, clazz in known:\n",
    "            if pattern in x:\n",
    "                print(clazz)\n",
    "                break\n",
    "        else:\n",
    "            print(y)\n",
    "\n",
    "\n",
    "def load_data(filename):\n",
    "    with open(filename, 'r') as data_file:\n",
    "        sz = int(data_file.readline())\n",
    "        xs = numpy.zeros(sz, dtype=numpy.object_)\n",
    "        ys = numpy.zeros(sz, dtype=numpy.int8)\n",
    "        for i, line in enumerate(data_file):\n",
    "            idx = line.index(' ')\n",
    "            if idx == -1:\n",
    "                raise ValueError('invalid input file')\n",
    "            clazz = int(line[:idx])\n",
    "            words = line[idx+1:]\n",
    "            xs[i] = words\n",
    "            ys[i] = clazz\n",
    "    return xs, ys\n",
    "\n",
    "\n",
    "if __name__ == '__main__':\n",
    "    run()"
   ]
  }
 ],
 "metadata": {
  "kernelspec": {
   "display_name": "Python 3",
   "language": "python",
   "name": "python3"
  },
  "language_info": {
   "codemirror_mode": {
    "name": "ipython",
    "version": 3
   },
   "file_extension": ".py",
   "mimetype": "text/x-python",
   "name": "python",
   "nbconvert_exporter": "python",
   "pygments_lexer": "ipython3",
   "version": "3.11.4"
  }
 },
 "nbformat": 4,
 "nbformat_minor": 2
}
