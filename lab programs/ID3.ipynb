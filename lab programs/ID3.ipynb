{
 "cells": [
  {
   "cell_type": "code",
   "execution_count": 3,
   "metadata": {},
   "outputs": [
    {
     "data": {
      "text/html": [
       "<div>\n",
       "<style scoped>\n",
       "    .dataframe tbody tr th:only-of-type {\n",
       "        vertical-align: middle;\n",
       "    }\n",
       "\n",
       "    .dataframe tbody tr th {\n",
       "        vertical-align: top;\n",
       "    }\n",
       "\n",
       "    .dataframe thead th {\n",
       "        text-align: right;\n",
       "    }\n",
       "</style>\n",
       "<table border=\"1\" class=\"dataframe\">\n",
       "  <thead>\n",
       "    <tr style=\"text-align: right;\">\n",
       "      <th></th>\n",
       "      <th>a1</th>\n",
       "      <th>a2</th>\n",
       "      <th>a3</th>\n",
       "      <th>target</th>\n",
       "    </tr>\n",
       "  </thead>\n",
       "  <tbody>\n",
       "    <tr>\n",
       "      <th>0</th>\n",
       "      <td>T</td>\n",
       "      <td>hot</td>\n",
       "      <td>high</td>\n",
       "      <td>no</td>\n",
       "    </tr>\n",
       "    <tr>\n",
       "      <th>1</th>\n",
       "      <td>T</td>\n",
       "      <td>hot</td>\n",
       "      <td>high</td>\n",
       "      <td>no</td>\n",
       "    </tr>\n",
       "    <tr>\n",
       "      <th>2</th>\n",
       "      <td>F</td>\n",
       "      <td>hot</td>\n",
       "      <td>high</td>\n",
       "      <td>yes</td>\n",
       "    </tr>\n",
       "    <tr>\n",
       "      <th>3</th>\n",
       "      <td>F</td>\n",
       "      <td>cool</td>\n",
       "      <td>normal</td>\n",
       "      <td>yes</td>\n",
       "    </tr>\n",
       "    <tr>\n",
       "      <th>4</th>\n",
       "      <td>F</td>\n",
       "      <td>cool</td>\n",
       "      <td>normal</td>\n",
       "      <td>yes</td>\n",
       "    </tr>\n",
       "    <tr>\n",
       "      <th>5</th>\n",
       "      <td>T</td>\n",
       "      <td>cool</td>\n",
       "      <td>high</td>\n",
       "      <td>no</td>\n",
       "    </tr>\n",
       "    <tr>\n",
       "      <th>6</th>\n",
       "      <td>T</td>\n",
       "      <td>hot</td>\n",
       "      <td>high</td>\n",
       "      <td>no</td>\n",
       "    </tr>\n",
       "    <tr>\n",
       "      <th>7</th>\n",
       "      <td>T</td>\n",
       "      <td>hot</td>\n",
       "      <td>normal</td>\n",
       "      <td>yes</td>\n",
       "    </tr>\n",
       "    <tr>\n",
       "      <th>8</th>\n",
       "      <td>F</td>\n",
       "      <td>cool</td>\n",
       "      <td>normal</td>\n",
       "      <td>yes</td>\n",
       "    </tr>\n",
       "    <tr>\n",
       "      <th>9</th>\n",
       "      <td>F</td>\n",
       "      <td>cool</td>\n",
       "      <td>high</td>\n",
       "      <td>yes</td>\n",
       "    </tr>\n",
       "  </tbody>\n",
       "</table>\n",
       "</div>"
      ],
      "text/plain": [
       "  a1    a2      a3 target\n",
       "0  T   hot    high     no\n",
       "1  T   hot    high     no\n",
       "2  F   hot    high    yes\n",
       "3  F  cool  normal    yes\n",
       "4  F  cool  normal    yes\n",
       "5  T  cool    high     no\n",
       "6  T   hot    high     no\n",
       "7  T   hot  normal    yes\n",
       "8  F  cool  normal    yes\n",
       "9  F  cool    high    yes"
      ]
     },
     "execution_count": 3,
     "metadata": {},
     "output_type": "execute_result"
    }
   ],
   "source": [
    "import pandas as pd\n",
    "import numpy as np\n",
    "from math import log2\n",
    "data=pd.read_csv(\"id3_example.csv\")\n",
    "data"
   ]
  },
  {
   "cell_type": "code",
   "execution_count": 100,
   "metadata": {},
   "outputs": [],
   "source": [
    "class node:\n",
    "    def __init__(self,column_name,columns_values) -> None:\n",
    "        self.name=column_name\n",
    "        self.columns_values=columns_values\n",
    "        self.pointers={j:None for j in columns_values}\n",
    "    \n",
    "    def update_pointers(self,next_nodes):\n",
    "        for j,node in zip(self.columns_values,next_nodes):\n",
    "            self.pointers[j]=node\n",
    "\n",
    "\n",
    "    def forward(self,record,columns):\n",
    "            for i,(column,data) in enumerate(zip(columns,record)):\n",
    "                if(self.name==column):\n",
    "                    columns.remove(self.name)\n",
    "                    if(isinstance(self.pointers[data],node)):\n",
    "                        return self.pointers[data].forward(record.drop(self.name),columns)\n",
    "                    else:\n",
    "                        return self.pointers[data]\n",
    "                    \n",
    "\n",
    "class ID3:\n",
    "    def __init__(self,data,target_column) -> None:\n",
    "        self.data=data\n",
    "        self.target_column=target_column\n",
    "        self.each_columns_unique_value={i:data[i].unique() for i in self.data.columns}\n",
    "        self.target_column_values=data[target_column].unique()\n",
    "        self.features=data.drop(columns=[target_column])\n",
    "        self.targets=data[target_column]\n",
    "        self.total=len(self.features)\n",
    "        self.root=None\n",
    "    def entropy(self,values,total_num_of_values):\n",
    "        individual_entropies=[]\n",
    "        for value in values:\n",
    "            #print(value)\n",
    "            if(value!=0):\n",
    "                individual_entropies.append((-value/total_num_of_values)*log2(value/total_num_of_values))\n",
    "            else:\n",
    "                individual_entropies.append(0)\n",
    "        return sum(individual_entropies)\n",
    "\n",
    "             \n",
    "    def get_info_gain(self,nodes=None,node_values=None):\n",
    "        subset_data=self.data\n",
    "        attribute_value_dict={}\n",
    "        if nodes!=None:\n",
    "            for node,value in zip(nodes,node_values):\n",
    "                subset_data=subset_data[subset_data[node]==value]\n",
    "            \n",
    "        #print(subset_data)\n",
    "        values=subset_data[self.target_column].value_counts() \n",
    "        main_entropy_value=self.entropy(values,sum(list(values)))\n",
    "\n",
    "        \"\"\" for i in columns_to_use:\n",
    "            attribute_value_dict[i]={j:{k:0 for k in self.target_column_values} for j in self.each_columns_unique_value[i]}\n",
    "            for i in range(len(subset_data)):\n",
    "                row=subset_data[[i,self.target_column]].iloc[i]\n",
    "                attribute_value_dict[i][row[i]][row[self.target_column]]+=1\n",
    "            entropies={j:self.entropy(attribute_value_dict[i][j].values,(sum(attribute_value_dict[i][j].values))) for j in self.each_columns_unique_value}\n",
    "         \"\"\"\n",
    "        columns=list(self.data.columns)\n",
    "        columns.remove(self.target_column)\n",
    "        entropies={}\n",
    "        if nodes!=None:\n",
    "            for i in nodes:\n",
    "                columns.remove(i)\n",
    "        if(len(columns)==0):\n",
    "             return (subset_data.iloc[0][self.target_column],)\n",
    "        \n",
    "        for i in columns:\n",
    "            sum_of_entropies=0\n",
    "            for j in subset_data[i].unique():\n",
    "                #print(subset_data[subset_data[i]==j])\n",
    "                values=list(subset_data[subset_data[i]==j][self.target_column].value_counts())\n",
    "                #print(sum(values))\n",
    "                #print(\"entropy values: \",self.entropy(values,sum(values)))\n",
    "                sub_entropy=(len(subset_data[subset_data[i]==j])/len(subset_data))*self.entropy(values,sum(values))\n",
    "                sum_of_entropies+=sub_entropy\n",
    "            entropies[i]=main_entropy_value-sum_of_entropies\n",
    "        #print(entropies)\n",
    "        max=-10**10\n",
    "        max_col=''\n",
    "        for i in entropies.keys():\n",
    "            if(max<entropies[i]):\n",
    "                max=entropies[i]\n",
    "                max_col=i\n",
    "        return max_col\n",
    "    \n",
    "    def recursive_tree_building(self,nodes,nodes_values,set_values):\n",
    "        #print(\"cur_node: \",nodes[-1])\n",
    "        cur_node=node(nodes[-1],list(self.data[nodes[-1]].unique()))\n",
    "        next_nodes=[]\n",
    "        for value in nodes_values:\n",
    "            best_col=self.get_info_gain(nodes=nodes,node_values=set_values+[value])\n",
    "            #print(\"best columns in recursion: \",best_col)\n",
    "            if(isinstance(best_col,tuple)):\n",
    "                   return best_col[0]\n",
    "            nodes.append(best_col)\n",
    "            set_values.append(value)\n",
    "            #print(nodes,set_values)\n",
    "            next_nodes.append(self.recursive_tree_building(nodes,list(self.data[best_col].unique()),set_values))\n",
    "            nodes.remove(best_col)\n",
    "            set_values.remove(value)\n",
    "        cur_node.update_pointers(next_nodes)\n",
    "        return cur_node\n",
    "              \n",
    "\n",
    "    def fit(self):\n",
    "        node=self.get_info_gain()\n",
    "        #print(node)\n",
    "        nodes=[node]\n",
    "        nodes_values=list(self.data[node].unique())\n",
    "        self.root=self.recursive_tree_building(nodes,nodes_values,[])\n",
    "    \n",
    "    def infer(self,record):\n",
    "        #print(record)\n",
    "        columns=list(self.data.columns)\n",
    "        columns.remove(self.target_column)\n",
    "        print(\"inference is: \",self.root.forward(record,columns))\n",
    "\n"
   ]
  },
  {
   "cell_type": "code",
   "execution_count": 108,
   "metadata": {},
   "outputs": [
    {
     "name": "stdout",
     "output_type": "stream",
     "text": [
      "inference is:  yes\n"
     ]
    }
   ],
   "source": [
    "\n",
    "algo=ID3(data,'target')\n",
    "algo.fit()\n",
    "algo.infer(data.drop(columns=['target']).iloc[9])\n"
   ]
  },
  {
   "cell_type": "code",
   "execution_count": 109,
   "metadata": {},
   "outputs": [
    {
     "name": "stdout",
     "output_type": "stream",
     "text": [
      "(0, 'a')\n",
      "(1, 'b')\n"
     ]
    }
   ],
   "source": [
    "for i in enumerate({'a':12,'b':123}):\n",
    "    print(i)"
   ]
  },
  {
   "cell_type": "code",
   "execution_count": 110,
   "metadata": {},
   "outputs": [
    {
     "data": {
      "text/plain": [
       "pandas.core.frame.DataFrame"
      ]
     },
     "execution_count": 110,
     "metadata": {},
     "output_type": "execute_result"
    }
   ],
   "source": [
    "type(data[data['a1']=='T'])"
   ]
  },
  {
   "cell_type": "code",
   "execution_count": 111,
   "metadata": {},
   "outputs": [
    {
     "name": "stdout",
     "output_type": "stream",
     "text": [
      "(0, ('T', 'a1'))\n",
      "(1, ('hot', 'a2'))\n",
      "(2, ('high', 'a3'))\n",
      "(3, ('no', 'target'))\n"
     ]
    }
   ],
   "source": [
    "for i in enumerate(zip(data[data['a1']=='T'].iloc[1],data.columns)):\n",
    "    print(i)"
   ]
  },
  {
   "cell_type": "code",
   "execution_count": 112,
   "metadata": {},
   "outputs": [
    {
     "data": {
      "text/plain": [
       "['a2', 'a3', 'target']"
      ]
     },
     "execution_count": 112,
     "metadata": {},
     "output_type": "execute_result"
    }
   ],
   "source": [
    "k=list(data.columns)\n",
    "k.remove('a1')\n",
    "k"
   ]
  },
  {
   "cell_type": "code",
   "execution_count": 113,
   "metadata": {},
   "outputs": [
    {
     "name": "stdout",
     "output_type": "stream",
     "text": [
      "<class 'list'>\n"
     ]
    }
   ],
   "source": [
    "k=type([1,2,3])\n",
    "print(k)"
   ]
  },
  {
   "cell_type": "code",
   "execution_count": 114,
   "metadata": {},
   "outputs": [
    {
     "data": {
      "text/plain": [
       "[2, 3, 4]"
      ]
     },
     "execution_count": 114,
     "metadata": {},
     "output_type": "execute_result"
    }
   ],
   "source": [
    "k=[1,2,3,4]\n",
    "k.remove(1)\n",
    "k"
   ]
  },
  {
   "cell_type": "code",
   "execution_count": null,
   "metadata": {},
   "outputs": [],
   "source": []
  }
 ],
 "metadata": {
  "kernelspec": {
   "display_name": "Python 3",
   "language": "python",
   "name": "python3"
  },
  "language_info": {
   "codemirror_mode": {
    "name": "ipython",
    "version": 3
   },
   "file_extension": ".py",
   "mimetype": "text/x-python",
   "name": "python",
   "nbconvert_exporter": "python",
   "pygments_lexer": "ipython3",
   "version": "3.11.4"
  }
 },
 "nbformat": 4,
 "nbformat_minor": 2
}
