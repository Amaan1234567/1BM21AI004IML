{
 "cells": [
  {
   "cell_type": "code",
   "execution_count": 3,
   "metadata": {},
   "outputs": [
    {
     "data": {
      "text/html": [
       "<div>\n",
       "<style scoped>\n",
       "    .dataframe tbody tr th:only-of-type {\n",
       "        vertical-align: middle;\n",
       "    }\n",
       "\n",
       "    .dataframe tbody tr th {\n",
       "        vertical-align: top;\n",
       "    }\n",
       "\n",
       "    .dataframe thead th {\n",
       "        text-align: right;\n",
       "    }\n",
       "</style>\n",
       "<table border=\"1\" class=\"dataframe\">\n",
       "  <thead>\n",
       "    <tr style=\"text-align: right;\">\n",
       "      <th></th>\n",
       "      <th>sky</th>\n",
       "      <th>airtemp</th>\n",
       "      <th>humidity</th>\n",
       "      <th>wind</th>\n",
       "      <th>water</th>\n",
       "      <th>forcast</th>\n",
       "      <th>enjoysport</th>\n",
       "    </tr>\n",
       "  </thead>\n",
       "  <tbody>\n",
       "    <tr>\n",
       "      <th>0</th>\n",
       "      <td>1</td>\n",
       "      <td>1</td>\n",
       "      <td>1</td>\n",
       "      <td>0</td>\n",
       "      <td>1</td>\n",
       "      <td>1</td>\n",
       "      <td>1</td>\n",
       "    </tr>\n",
       "    <tr>\n",
       "      <th>1</th>\n",
       "      <td>1</td>\n",
       "      <td>1</td>\n",
       "      <td>0</td>\n",
       "      <td>0</td>\n",
       "      <td>1</td>\n",
       "      <td>1</td>\n",
       "      <td>1</td>\n",
       "    </tr>\n",
       "    <tr>\n",
       "      <th>2</th>\n",
       "      <td>0</td>\n",
       "      <td>0</td>\n",
       "      <td>0</td>\n",
       "      <td>0</td>\n",
       "      <td>1</td>\n",
       "      <td>0</td>\n",
       "      <td>0</td>\n",
       "    </tr>\n",
       "    <tr>\n",
       "      <th>3</th>\n",
       "      <td>1</td>\n",
       "      <td>1</td>\n",
       "      <td>0</td>\n",
       "      <td>0</td>\n",
       "      <td>0</td>\n",
       "      <td>0</td>\n",
       "      <td>1</td>\n",
       "    </tr>\n",
       "  </tbody>\n",
       "</table>\n",
       "</div>"
      ],
      "text/plain": [
       "   sky  airtemp  humidity  wind  water  forcast  enjoysport\n",
       "0    1        1         1     0      1        1           1\n",
       "1    1        1         0     0      1        1           1\n",
       "2    0        0         0     0      1        0           0\n",
       "3    1        1         0     0      0        0           1"
      ]
     },
     "execution_count": 3,
     "metadata": {},
     "output_type": "execute_result"
    }
   ],
   "source": [
    "import numpy as np\n",
    "import pandas as pd\n",
    "data=pd.read_csv('1BM21AI004IML\\likesport.csv')\n",
    "from sklearn.preprocessing import LabelEncoder\n",
    "encoder=LabelEncoder()\n",
    "for i in data.columns:\n",
    "    data[i]=encoder.fit_transform(data[i])\n",
    "data"
   ]
  },
  {
   "cell_type": "code",
   "execution_count": 34,
   "metadata": {},
   "outputs": [],
   "source": [
    "class KNN:\n",
    "    def __init__(self,target_column_name,k,data) -> None:\n",
    "        self.data=data\n",
    "        self.target_column_name=target_column_name\n",
    "        self.k=k\n",
    "    def forward(self,test_row):\n",
    "        copied_data=self.data.copy()\n",
    "        features=copied_data.drop(columns=[self.target_column_name])\n",
    "        distances=[]\n",
    "        for i in range(len(self.data)):\n",
    "            row=features.iloc[i].to_numpy()\n",
    "            distances.append(np.linalg.norm(test_row.to_numpy()-row))\n",
    "        copied_data['distances']=distances\n",
    "        copied_data=copied_data.sort_values(by='distances',ascending=True)\n",
    "        k_neighbours=copied_data.iloc[0:self.k]\n",
    "        classification=k_neighbours[self.target_column_name].value_counts()\n",
    "        res=dict(classification)\n",
    "        print(res)\n",
    "        max_key=-1\n",
    "        max_value=-10**10\n",
    "        for i in res.keys():\n",
    "            if max_value<res[i]:\n",
    "                max_key=i\n",
    "                max_value=res[i]\n",
    "        print(max_key)\n"
   ]
  },
  {
   "cell_type": "code",
   "execution_count": null,
   "metadata": {},
   "outputs": [],
   "source": [
    "\n",
    "knn=KNN(target_column_name='enjoysport',k=3)\n",
    "knn.forward(data.iloc[2][:-1])"
   ]
  },
  {
   "cell_type": "code",
   "execution_count": 35,
   "metadata": {},
   "outputs": [],
   "source": [
    "from sklearn.datasets import load_breast_cancer\n",
    "data=load_breast_cancer()\n",
    "df=pd.DataFrame(data=data['data'],columns=data['feature_names'])\n",
    "df['target']=data['target']"
   ]
  },
  {
   "cell_type": "code",
   "execution_count": 41,
   "metadata": {},
   "outputs": [
    {
     "name": "stdout",
     "output_type": "stream",
     "text": [
      "{0: 5}\n",
      "0\n",
      "mean radius                 11.420000\n",
      "mean texture                20.380000\n",
      "mean perimeter              77.580000\n",
      "mean area                  386.100000\n",
      "mean smoothness              0.142500\n",
      "mean compactness             0.283900\n",
      "mean concavity               0.241400\n",
      "mean concave points          0.105200\n",
      "mean symmetry                0.259700\n",
      "mean fractal dimension       0.097440\n",
      "radius error                 0.495600\n",
      "texture error                1.156000\n",
      "perimeter error              3.445000\n",
      "area error                  27.230000\n",
      "smoothness error             0.009110\n",
      "compactness error            0.074580\n",
      "concavity error              0.056610\n",
      "concave points error         0.018670\n",
      "symmetry error               0.059630\n",
      "fractal dimension error      0.009208\n",
      "worst radius                14.910000\n",
      "worst texture               26.500000\n",
      "worst perimeter             98.870000\n",
      "worst area                 567.700000\n",
      "worst smoothness             0.209800\n",
      "worst compactness            0.866300\n",
      "worst concavity              0.686900\n",
      "worst concave points         0.257500\n",
      "worst symmetry               0.663800\n",
      "worst fractal dimension      0.173000\n",
      "target                       0.000000\n",
      "Name: 3, dtype: float64\n"
     ]
    }
   ],
   "source": [
    "knn=KNN(\"target\",5,df)\n",
    "knn.forward(df.iloc[5][:-1])\n",
    "print(df.iloc[3])"
   ]
  },
  {
   "cell_type": "code",
   "execution_count": null,
   "metadata": {},
   "outputs": [],
   "source": []
  }
 ],
 "metadata": {
  "kernelspec": {
   "display_name": "Python 3",
   "language": "python",
   "name": "python3"
  },
  "language_info": {
   "codemirror_mode": {
    "name": "ipython",
    "version": 3
   },
   "file_extension": ".py",
   "mimetype": "text/x-python",
   "name": "python",
   "nbconvert_exporter": "python",
   "pygments_lexer": "ipython3",
   "version": "3.11.4"
  }
 },
 "nbformat": 4,
 "nbformat_minor": 2
}
