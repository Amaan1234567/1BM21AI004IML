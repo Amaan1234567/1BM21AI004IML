{
 "cells": [
  {
   "cell_type": "code",
   "execution_count": 31,
   "metadata": {},
   "outputs": [],
   "source": [
    "import numpy as np\n",
    "from sklearn.model_selection import train_test_split\n",
    "import pandas as pd"
   ]
  },
  {
   "cell_type": "code",
   "execution_count": 32,
   "metadata": {},
   "outputs": [],
   "source": [
    "\n",
    "class SVM_binary:\n",
    "    def __init__(self,data,target_column) -> None:\n",
    "        self.features=data.drop(columns=[target_column]).to_numpy()\n",
    "        self.targets=data[target_column].to_numpy()\n",
    "        self.data = train_test_split(self.features, self.targets, test_size=0.2, random_state=42)\n",
    "        #X_train,X_test,y_train,y_test\n",
    "        self.number_of_attributes=len(self.features[0])\n",
    "        self.weights=np.random.rand(self.number_of_attributes)\n",
    "        self.bias=np.random.rand(1)\n",
    "        self.error_term=1\n",
    "        print(self.targets)\n",
    "        self.losses=[]\n",
    "    def hingeloss(self, w, b, x, y):\n",
    "        # Regularizer term\n",
    "        reg = 0.5 * (np.dot(w,w))\n",
    "        for i in range(x.shape[0]):\n",
    "            # Optimization term\n",
    "            opt_term = y[i] * ((np.dot(w, x[i])) + b)\n",
    "\n",
    "            # calculating loss\n",
    "            loss = reg + self.error_term * max(0, 1-opt_term)\n",
    "        return loss/x.shape[0]\n",
    "\n",
    "    def train(self,lr,epochs):\n",
    "        \n",
    "        prev_loss=l = self.hingeloss(self.weights, self.bias, self.data[1], self.data[3])\n",
    "        for epoch in range(epochs):\n",
    "            gradw = 0\n",
    "            gradb = 0\n",
    "            print(f\"epoch:{epoch+1}\")\n",
    "            misclasified_weights=[]\n",
    "            misclassified_biases=[]\n",
    "            for i,(X,y) in enumerate(zip(self.data[0],self.data[2])):\n",
    "                pred=y*np.dot(X,self.weights)+self.bias\n",
    "\n",
    "                if(pred>1):\n",
    "                    gradb+=0\n",
    "                    gradw+=0\n",
    "                else:\n",
    "                    gradw+= self.error_term*y*X\n",
    "                    gradb+= self.error_term*y\n",
    "                self.weights-=lr*self.weights+lr*gradw\n",
    "                self.bias+=lr*gradb\n",
    "\n",
    "            # updating weights\n",
    "            l = self.hingeloss(self.weights, self.bias, self.data[1], self.data[3])\n",
    "            \n",
    "            if(prev_loss<l):\n",
    "                break\n",
    "            # Appending all losses \n",
    "            self.losses.append(l)\n",
    "            print(f\"loss:{l}\")\n",
    "    def display_weights(self):\n",
    "        print(\"weights: \\n\",self.weights)\n",
    "\n"
   ]
  },
  {
   "cell_type": "code",
   "execution_count": 33,
   "metadata": {},
   "outputs": [],
   "source": [
    "import pandas as pd\n",
    "data=pd.DataFrame(data=[\n",
    "    [3,1,1],\n",
    "    [3,-1,1],\n",
    "    [6,1,1],\n",
    "    [6,-1,1],\n",
    "    [1,0,-1],\n",
    "    [0,1,-1],\n",
    "    [0,-1,-1],\n",
    "    [-1,0,-1]\n",
    "    ],columns=[\"X\",\"Y\",\"target\"])\n",
    "target_column=\"target\""
   ]
  },
  {
   "cell_type": "code",
   "execution_count": 34,
   "metadata": {},
   "outputs": [
    {
     "data": {
      "text/plain": [
       "\" from sklearn.datasets import load_breast_cancer\\n\\ndata=load_breast_cancer()\\ndf=pd.DataFrame(data=data['data'],columns=data['feature_names'])\\ndf['target']=data['target']\\ndef target_encoding(e):\\n    if e==0:\\n        return 1\\n    else:\\n        return -1\\ndf['target']=df['target'].apply(target_encoding)\\n \""
      ]
     },
     "execution_count": 34,
     "metadata": {},
     "output_type": "execute_result"
    }
   ],
   "source": [
    "\"\"\" from sklearn.datasets import load_breast_cancer\n",
    "\n",
    "data=load_breast_cancer()\n",
    "df=pd.DataFrame(data=data['data'],columns=data['feature_names'])\n",
    "df['target']=data['target']\n",
    "def target_encoding(e):\n",
    "    if e==0:\n",
    "        return 1\n",
    "    else:\n",
    "        return -1\n",
    "df['target']=df['target'].apply(target_encoding)\n",
    " \"\"\""
   ]
  },
  {
   "cell_type": "code",
   "execution_count": 35,
   "metadata": {},
   "outputs": [
    {
     "name": "stdout",
     "output_type": "stream",
     "text": [
      "[ 1  1  1  1 -1 -1 -1 -1]\n",
      "epoch:1\n",
      "loss:[0.64999529]\n",
      "epoch:2\n",
      "loss:[0.57925439]\n",
      "epoch:3\n",
      "loss:[0.51156347]\n",
      "epoch:4\n",
      "loss:[0.44656868]\n",
      "epoch:5\n",
      "loss:[0.38395677]\n",
      "epoch:6\n",
      "loss:[0.29877194]\n",
      "epoch:7\n",
      "loss:[0.29630845]\n",
      "epoch:8\n",
      "loss:[0.44280206]\n",
      "epoch:9\n",
      "loss:[0.71272817]\n",
      "epoch:10\n",
      "weights: \n",
      " [-1.89075787 -0.33709431]\n"
     ]
    }
   ],
   "source": [
    "svm=SVM_binary(data=data,target_column=\"target\")\n",
    "svm.train(0.01,100)\n",
    "svm.display_weights()"
   ]
  },
  {
   "cell_type": "markdown",
   "metadata": {},
   "source": []
  },
  {
   "cell_type": "code",
   "execution_count": 36,
   "metadata": {},
   "outputs": [
    {
     "data": {
      "text/plain": [
       "' features=data.drop(columns=[target_column]).to_numpy()\\ntargets=data[target_column].to_numpy()\\ndata=zip(features,targets)\\nfor i,j in enumerate(data):\\n    print(i,j) '"
      ]
     },
     "execution_count": 36,
     "metadata": {},
     "output_type": "execute_result"
    }
   ],
   "source": [
    "\"\"\" features=data.drop(columns=[target_column]).to_numpy()\n",
    "targets=data[target_column].to_numpy()\n",
    "data=zip(features,targets)\n",
    "for i,j in enumerate(data):\n",
    "    print(i,j) \"\"\""
   ]
  },
  {
   "cell_type": "code",
   "execution_count": null,
   "metadata": {},
   "outputs": [],
   "source": []
  }
 ],
 "metadata": {
  "kernelspec": {
   "display_name": "Python 3",
   "language": "python",
   "name": "python3"
  },
  "language_info": {
   "codemirror_mode": {
    "name": "ipython",
    "version": 3
   },
   "file_extension": ".py",
   "mimetype": "text/x-python",
   "name": "python",
   "nbconvert_exporter": "python",
   "pygments_lexer": "ipython3",
   "version": "3.11.4"
  }
 },
 "nbformat": 4,
 "nbformat_minor": 2
}
