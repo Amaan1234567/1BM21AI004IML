{
 "cells": [
  {
   "cell_type": "code",
   "execution_count": 3,
   "metadata": {},
   "outputs": [],
   "source": [
    "import numpy as np\n",
    "import pandas as pd"
   ]
  },
  {
   "cell_type": "code",
   "execution_count": 156,
   "metadata": {},
   "outputs": [],
   "source": [
    "from sklearn.datasets import load_breast_cancer,load_iris\n",
    "#data=load_breast_cancer()\n",
    "data=load_iris()\n",
    "df=pd.DataFrame(data=data['data'],columns=data['feature_names'])\n",
    "df['target']=data['target']\n"
   ]
  },
  {
   "cell_type": "code",
   "execution_count": 157,
   "metadata": {},
   "outputs": [],
   "source": [
    "class k_means:\n",
    "    def __init__(self,data,k,target_name,random_seed=69) -> None:\n",
    "        self.data = data.drop(columns=[target_name])\n",
    "        self.targets=data[target_name]\n",
    "        self.k=k\n",
    "        self.centroids=[]\n",
    "        count=0\n",
    "        while count<k:\n",
    "            np.random.RandomState(seed=random_seed)\n",
    "            data_point=list(data.iloc[np.random.randint(low=0,high=len(data))])\n",
    "            if data_point not in self.centroids:\n",
    "                self.centroids.append(data_point)\n",
    "                count+=1\n",
    "        print(self.centroids)\n",
    "        #self.centroids=np.array(self.centroids)\n",
    "\n",
    "\n",
    "\n",
    "    def fit(self):\n",
    "        data_in_use=self.data.copy()\n",
    "        #print(data_in_use.to_numpy(),np.array(self.centroids))\n",
    "        prev_centroids=self.centroids[:]\n",
    "        i=0\n",
    "        while self.centroids!=prev_centroids or i==0:\n",
    "            if(i!=0):\n",
    "                prev_centroids=self.centroids\n",
    "            cur_centroids=[]\n",
    "            op1=data_in_use.to_numpy()[:,None]\n",
    "            op2=np.array(self.centroids)\n",
    "            #print(op1.shape)\n",
    "            #print(op2.shape)\n",
    "            #print(np.subtract(op1,op2).shape)\n",
    "            dist=np.linalg.norm(np.subtract(op1,op2),axis=2)\n",
    "            classified=np.array(np.argmin(dist,axis=1))[:,None]\n",
    "            #print(classified.shape)\n",
    "            for i in range(self.k):\n",
    "                updated_centroid=list(np.mean(data_in_use.to_numpy(),where=(classified==i),axis=0))\n",
    "                #print(updated_centroid)\n",
    "                cur_centroids.append(updated_centroid)\n",
    "            self.centroids=cur_centroids\n",
    "\n",
    "            i+=1\n",
    "        print(self.centroids)\n",
    "\n",
    "        #while self.centroids!=cur_centroids:\n",
    "            \n"
   ]
  },
  {
   "cell_type": "code",
   "execution_count": 158,
   "metadata": {},
   "outputs": [
    {
     "name": "stdout",
     "output_type": "stream",
     "text": [
      "[[5.7, 2.8, 4.1, 1.3, 1.0], [6.5, 3.0, 5.5, 1.8, 2.0], [5.9, 3.0, 5.1, 1.8, 2.0]]\n"
     ]
    },
    {
     "ename": "ValueError",
     "evalue": "operands could not be broadcast together with shapes (150,1,4) (3,5) ",
     "output_type": "error",
     "traceback": [
      "\u001b[1;31m---------------------------------------------------------------------------\u001b[0m",
      "\u001b[1;31mValueError\u001b[0m                                Traceback (most recent call last)",
      "Cell \u001b[1;32mIn[158], line 2\u001b[0m\n\u001b[0;32m      1\u001b[0m model\u001b[38;5;241m=\u001b[39mk_means(df,\u001b[38;5;241m3\u001b[39m,\u001b[38;5;124m'\u001b[39m\u001b[38;5;124mtarget\u001b[39m\u001b[38;5;124m'\u001b[39m)\n\u001b[1;32m----> 2\u001b[0m \u001b[43mmodel\u001b[49m\u001b[38;5;241;43m.\u001b[39;49m\u001b[43mfit\u001b[49m\u001b[43m(\u001b[49m\u001b[43m)\u001b[49m\n",
      "Cell \u001b[1;32mIn[157], line 33\u001b[0m, in \u001b[0;36mk_means.fit\u001b[1;34m(self)\u001b[0m\n\u001b[0;32m     29\u001b[0m op2\u001b[38;5;241m=\u001b[39mnp\u001b[38;5;241m.\u001b[39marray(\u001b[38;5;28mself\u001b[39m\u001b[38;5;241m.\u001b[39mcentroids)\n\u001b[0;32m     30\u001b[0m \u001b[38;5;66;03m#print(op1.shape)\u001b[39;00m\n\u001b[0;32m     31\u001b[0m \u001b[38;5;66;03m#print(op2.shape)\u001b[39;00m\n\u001b[0;32m     32\u001b[0m \u001b[38;5;66;03m#print(np.subtract(op1,op2).shape)\u001b[39;00m\n\u001b[1;32m---> 33\u001b[0m dist\u001b[38;5;241m=\u001b[39mnp\u001b[38;5;241m.\u001b[39mlinalg\u001b[38;5;241m.\u001b[39mnorm(\u001b[43mnp\u001b[49m\u001b[38;5;241;43m.\u001b[39;49m\u001b[43msubtract\u001b[49m\u001b[43m(\u001b[49m\u001b[43mop1\u001b[49m\u001b[43m,\u001b[49m\u001b[43mop2\u001b[49m\u001b[43m)\u001b[49m,axis\u001b[38;5;241m=\u001b[39m\u001b[38;5;241m2\u001b[39m)\n\u001b[0;32m     34\u001b[0m classified\u001b[38;5;241m=\u001b[39mnp\u001b[38;5;241m.\u001b[39marray(np\u001b[38;5;241m.\u001b[39margmin(dist,axis\u001b[38;5;241m=\u001b[39m\u001b[38;5;241m1\u001b[39m))[:,\u001b[38;5;28;01mNone\u001b[39;00m]\n\u001b[0;32m     35\u001b[0m \u001b[38;5;66;03m#print(classified.shape)\u001b[39;00m\n",
      "\u001b[1;31mValueError\u001b[0m: operands could not be broadcast together with shapes (150,1,4) (3,5) "
     ]
    }
   ],
   "source": [
    "model=k_means(df,3,'target')\n",
    "model.fit()"
   ]
  },
  {
   "cell_type": "code",
   "execution_count": null,
   "metadata": {},
   "outputs": [],
   "source": []
  }
 ],
 "metadata": {
  "kernelspec": {
   "display_name": "Python 3",
   "language": "python",
   "name": "python3"
  },
  "language_info": {
   "codemirror_mode": {
    "name": "ipython",
    "version": 3
   },
   "file_extension": ".py",
   "mimetype": "text/x-python",
   "name": "python",
   "nbconvert_exporter": "python",
   "pygments_lexer": "ipython3",
   "version": "3.11.4"
  }
 },
 "nbformat": 4,
 "nbformat_minor": 2
}
