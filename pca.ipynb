{
 "cells": [
  {
   "cell_type": "code",
   "execution_count": 16,
   "metadata": {},
   "outputs": [
    {
     "name": "stdout",
     "output_type": "stream",
     "text": [
      "acc without pca: 0.6666666666666666\n",
      "acc with pca: 0.8181818181818182\n"
     ]
    }
   ],
   "source": [
    "from sklearn.datasets import make_classification\n",
    "from sklearn.linear_model import RidgeClassifierCV\n",
    "from sklearn.model_selection import train_test_split\n",
    "from sklearn.decomposition import PCA\n",
    "\n",
    "X,y = make_classification(n_samples=100,n_features=40,random_state=4)\n",
    "\n",
    "X_train, X_test, y_train, y_test = train_test_split(X, y, test_size=0.33, random_state=4)\n",
    "\n",
    "model = RidgeClassifierCV()\n",
    "model.fit(X_train,y_train)\n",
    "print(\"acc without pca:\",model.score(X_test,y_test))\n",
    "\n",
    "pca_model = PCA(n_components=20)\n",
    "new_X = pca_model.fit_transform(X)\n",
    "\n",
    "X_train, X_test, y_train, y_test = train_test_split(new_X, y, test_size=0.33, random_state=4)\n",
    "\n",
    "model = RidgeClassifierCV()\n",
    "model.fit(X_train,y_train)\n",
    "print(\"acc with pca:\",model.score(X_test,y_test))\n"
   ]
  },
  {
   "cell_type": "code",
   "execution_count": null,
   "metadata": {},
   "outputs": [],
   "source": []
  }
 ],
 "metadata": {
  "kernelspec": {
   "display_name": "Python 3",
   "language": "python",
   "name": "python3"
  },
  "language_info": {
   "codemirror_mode": {
    "name": "ipython",
    "version": 3
   },
   "file_extension": ".py",
   "mimetype": "text/x-python",
   "name": "python",
   "nbconvert_exporter": "python",
   "pygments_lexer": "ipython3",
   "version": "3.11.4"
  }
 },
 "nbformat": 4,
 "nbformat_minor": 2
}
