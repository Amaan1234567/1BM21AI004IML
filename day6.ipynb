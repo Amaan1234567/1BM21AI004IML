{
 "cells": [
  {
   "cell_type": "code",
   "execution_count": null,
   "metadata": {},
   "outputs": [],
   "source": [
    "import numpy as np\n",
    "from sklearn.linear_model import RidgeCV\n",
    "from sklearn.model_selection import train_test_split\n",
    "\n",
    "data=input().split()\n",
    "f,N=int(data[0]),int(data[1])\n",
    "\n",
    "features=[]\n",
    "targets=[]\n",
    "for i in range(N):\n",
    "    record=input().split()\n",
    "    record=[float(i) for i in record]\n",
    "    targets.append(record[-1])\n",
    "    features.append(record[:-1])\n",
    "\n",
    "\n",
    "test_features=[]\n",
    "t=int(input())\n",
    "for i in range(t):\n",
    "    record=input().split()\n",
    "    record=[float(i) for i in record]\n",
    "    test_features.append(record)\n",
    "\n",
    "\n",
    "X=np.array(features)\n",
    "y=np.array(targets)\n",
    "\n",
    "model=RidgeCV()\n",
    "\n",
    "model.fit(X,y)\n",
    "\n",
    "res=model.predict(test_features)\n",
    "for i in res:\n",
    "    print(i)\n"
   ]
  },
  {
   "cell_type": "code",
   "execution_count": null,
   "metadata": {},
   "outputs": [],
   "source": []
  }
 ],
 "metadata": {
  "language_info": {
   "name": "python"
  }
 },
 "nbformat": 4,
 "nbformat_minor": 2
}
